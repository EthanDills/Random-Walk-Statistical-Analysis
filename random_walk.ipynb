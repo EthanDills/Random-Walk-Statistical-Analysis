{
 "cells": [
  {
   "cell_type": "code",
   "execution_count": 3,
   "metadata": {},
   "outputs": [],
   "source": [
    "\n",
    "\n"
   ]
  },
  {
   "cell_type": "code",
   "execution_count": 26,
   "metadata": {},
   "outputs": [
    {
     "data": {
      "image/png": "[encoded data removed]",
      "text/plain": [
       "<Figure size 432x288 with 1 Axes>"
      ]
     },
     "metadata": {
      "needs_background": "light"
     },
     "output_type": "display_data"
    }
   ],
   "source": [
    "import matplotlib.pyplot as mpl\n",
    "import numpy as np\n",
    "\n",
    "\n",
    "def random_walk(n): # n is the number of random steps that will be taken\n",
    "    \n",
    "    delta_r = [0, -1, 0, 1] # encoding for change in ROW number depending on which direction we step in\n",
    "    delta_c = [1, 0, -1, 0] # encoding for change in COLUMN number depending on which direction we step in\n",
    "    start_r = n # starting (middle) row position\n",
    "    start_c = n # starting (middle) column position\n",
    "    r = start_r # starting (middle) row position\n",
    "    c = start_c # starting (middle) column position\n",
    "    for i in range(n): # computes random walk\n",
    "        rand = np.random.randint(0, 3) # one of 4 directions to go (right, up, left, or down)\n",
    "        r += delta_r[rand]\n",
    "        c += delta_c[rand]\n",
    "    distance = abs(r - start_r) + abs(c - start_c)\n",
    "    return distance\n",
    "\n",
    "def collect_distances(iterations, steps): # creating a certain number of random walks and recording their ending number of steps from the start\n",
    "    hist_range = (0, steps)\n",
    "    if(iterations > 10000 or steps > 10000):\n",
    "        print(\"input too large\")\n",
    "        return\n",
    "    values = []\n",
    "    for i in range(iterations):\n",
    "        values.append(random_walk(steps)) # recording the final distance for n # of steps taken\n",
    "    mpl.hist(values, bins=steps, range=hist_range, density=True) # plot values\n",
    "\n",
    "collect_distances(10000, 100)\n",
    "# collect_distances(1000000, 100)"
   ]
  },
  {
   "cell_type": "code",
   "execution_count": 1,
   "metadata": {},
   "outputs": [],
   "source": []
  }
 ],
 "metadata": {
  "interpreter": {
   "hash": "c26674dd24ea2b20cb9152b62c73d8bf4c12951f6c1694f628d55a604eccb263"
  },
  "kernelspec": {
   "display_name": "Python 3.8.8 64-bit ('base': conda)",
   "name": "python3"
  },
  "language_info": {
   "codemirror_mode": {
    "name": "ipython",
    "version": 3
   },
   "file_extension": ".py",
   "mimetype": "text/x-python",
   "name": "python",
   "nbconvert_exporter": "python",
   "pygments_lexer": "ipython3",
   "version": "3.8.8"
  }
 },
 "nbformat": 4,
 "nbformat_minor": 4
}
