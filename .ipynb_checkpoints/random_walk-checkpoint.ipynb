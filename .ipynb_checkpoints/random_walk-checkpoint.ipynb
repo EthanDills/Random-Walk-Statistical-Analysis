{
 "cells": [
  {
   "cell_type": "code",
   "execution_count": 67,
   "metadata": {},
   "outputs": [],
   "source": [
    "import numpy.random as np\n",
    "\n",
    "n = 11 # number of steps that will be taken\n",
    "start_r = n # starting (middle) row position\n",
    "start_c = n # starting (middle) column position\n",
    "delta_r = [0, -1, 0, 1]\n",
    "delta_c = [1, 0, -1, 0]\n",
    "Array = [[0 for j in range( (2*n) + 1 )] for i in range( (2*n) + 1 )] "
   ]
  },
  {
   "cell_type": "code",
   "execution_count": 95,
   "metadata": {},
   "outputs": [
    {
     "name": "stdout",
     "output_type": "stream",
     "text": [
      "5\n"
     ]
    }
   ],
   "source": [
    "def random_walk():\n",
    "    r = n # starting (middle) row position\n",
    "    c = n # starting (middle) column position\n",
    "    for i in range(n): # computes random walk\n",
    "        rand = np.randint(0, 3) # one of 4 directions to go (right, up, left, or down)\n",
    "        r += delta_r[rand]\n",
    "        c += delta_c[rand]\n",
    "    distance = abs(r - start_r) + abs(c - start_c)\n",
    "    return distance\n",
    "\n",
    "def collect_distances(iterations): # creating a certain number of random walks and recording their ending number of steps from the start\n",
    "    for i in range(iterations):\n",
    "        random_walk()\n",
    "    \n",
    "    "
   ]
  },
  {
   "cell_type": "code",
   "execution_count": 1,
   "metadata": {},
   "outputs": [],
   "source": []
  }
 ],
 "metadata": {
  "kernelspec": {
   "display_name": "Python 3",
   "language": "python",
   "name": "python3"
  },
  "language_info": {
   "codemirror_mode": {
    "name": "ipython",
    "version": 3
   },
   "file_extension": ".py",
   "mimetype": "text/x-python",
   "name": "python",
   "nbconvert_exporter": "python",
   "pygments_lexer": "ipython3",
   "version": "3.8.5"
  }
 },
 "nbformat": 4,
 "nbformat_minor": 4
}
